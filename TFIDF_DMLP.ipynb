{
  "nbformat": 4,
  "nbformat_minor": 0,
  "metadata": {
    "colab": {
      "provenance": [],
      "authorship_tag": "ABX9TyMBYoa+9rEWdPGvGCDT/TnP",
      "include_colab_link": true
    },
    "kernelspec": {
      "name": "python3",
      "display_name": "Python 3"
    },
    "language_info": {
      "name": "python"
    },
    "accelerator": "GPU",
    "gpuClass": "standard"
  },
  "cells": [
    {
      "cell_type": "markdown",
      "metadata": {
        "id": "view-in-github",
        "colab_type": "text"
      },
      "source": [
        "<a href=\"https://colab.research.google.com/github/younesabdolmalaky/A-Dual-Channel-Approach-for-Farsi-Text-Classification-using-Transfer-Learning-Techniques/blob/main/TFIDF_DMLP.ipynb\" target=\"_parent\"><img src=\"https://colab.research.google.com/assets/colab-badge.svg\" alt=\"Open In Colab\"/></a>"
      ]
    },
    {
      "cell_type": "code",
      "execution_count": null,
      "metadata": {
        "colab": {
          "base_uri": "https://localhost:8080/"
        },
        "id": "uQhnY96IwXbr",
        "outputId": "e0f30644-a3e0-4c11-eaaa-95b4e61e9a45"
      },
      "outputs": [
        {
          "output_type": "stream",
          "name": "stdout",
          "text": [
            "Looking in indexes: https://pypi.org/simple, https://us-python.pkg.dev/colab-wheels/public/simple/\n",
            "Requirement already satisfied: kaggle in /usr/local/lib/python3.8/dist-packages (1.5.12)\n",
            "Requirement already satisfied: python-dateutil in /usr/local/lib/python3.8/dist-packages (from kaggle) (2.8.2)\n",
            "Requirement already satisfied: python-slugify in /usr/local/lib/python3.8/dist-packages (from kaggle) (7.0.0)\n",
            "Requirement already satisfied: tqdm in /usr/local/lib/python3.8/dist-packages (from kaggle) (4.64.1)\n",
            "Requirement already satisfied: six>=1.10 in /usr/local/lib/python3.8/dist-packages (from kaggle) (1.15.0)\n",
            "Requirement already satisfied: certifi in /usr/local/lib/python3.8/dist-packages (from kaggle) (2022.12.7)\n",
            "Requirement already satisfied: requests in /usr/local/lib/python3.8/dist-packages (from kaggle) (2.25.1)\n",
            "Requirement already satisfied: urllib3 in /usr/local/lib/python3.8/dist-packages (from kaggle) (1.24.3)\n",
            "Requirement already satisfied: text-unidecode>=1.3 in /usr/local/lib/python3.8/dist-packages (from python-slugify->kaggle) (1.3)\n",
            "Requirement already satisfied: idna<3,>=2.5 in /usr/local/lib/python3.8/dist-packages (from requests->kaggle) (2.10)\n",
            "Requirement already satisfied: chardet<5,>=3.0.2 in /usr/local/lib/python3.8/dist-packages (from requests->kaggle) (4.0.0)\n",
            "Downloading amazonreviews.zip to /content\n",
            " 99% 490M/493M [00:13<00:00, 42.1MB/s]\n",
            "100% 493M/493M [00:13<00:00, 38.4MB/s]\n",
            "Archive:  amazonreviews.zip\n",
            "  inflating: test.ft.txt.bz2         \n",
            "  inflating: train.ft.txt.bz2        \n"
          ]
        }
      ],
      "source": [
        "! pip install kaggle\n",
        "! mkdir ~/.kaggle\n",
        "! cp kaggle.json ~/.kaggle/\n",
        "! chmod 600 ~/.kaggle/kaggle.json\n",
        "! kaggle datasets download bittlingmayer/amazonreviews\n",
        "! unzip amazonreviews.zip"
      ]
    },
    {
      "cell_type": "code",
      "source": [
        "import pandas as pd\n",
        "import numpy as np\n",
        "import matplotlib.pyplot as plt\n",
        "from tensorflow.python.keras import models, layers, optimizers\n",
        "import tensorflow\n",
        "from tensorflow.keras.preprocessing.text import Tokenizer, text_to_word_sequence\n",
        "from tensorflow.keras.preprocessing.sequence import pad_sequences\n",
        "import bz2\n",
        "from sklearn.metrics import f1_score, roc_auc_score, accuracy_score\n",
        "import re"
      ],
      "metadata": {
        "id": "Eq_lcsCuwgVI"
      },
      "execution_count": null,
      "outputs": []
    },
    {
      "cell_type": "code",
      "source": [
        "import numpy as np\n",
        "from tensorflow.keras import models, layers, optimizers\n",
        "from tensorflow.keras.preprocessing.text import Tokenizer, text_to_word_sequence\n",
        "from tensorflow.keras.preprocessing.sequence import pad_sequences\n",
        "from tensorflow.keras import losses\n",
        "from tensorflow.keras.models import Sequential\n",
        "from tensorflow.sparse import reorder\n",
        "from tensorflow import SparseTensor\n",
        "from tensorflow.keras import callbacks\n",
        "from tensorflow.keras.models import Model\n",
        "from tensorflow.keras.layers import Input , Dense\n",
        "from tensorflow.keras.utils import plot_model\n",
        "import pickle\n",
        "from sklearn.metrics import classification_report\n",
        "from tensorflow.sparse import concat\n",
        "import tensorflow as tf"
      ],
      "metadata": {
        "id": "-G4F0W6gwjKz"
      },
      "execution_count": null,
      "outputs": []
    },
    {
      "cell_type": "code",
      "source": [
        "def get_labels_and_texts(file):\n",
        "    labels = []\n",
        "    texts = []\n",
        "    for line in bz2.BZ2File(file):\n",
        "        x = line.decode(\"utf-8\")\n",
        "        labels.append(int(x[9]) - 1)\n",
        "        texts.append(x[10:].strip())\n",
        "    return np.array(labels), texts\n",
        "train_labels, train_texts = get_labels_and_texts('train.ft.txt.bz2')\n",
        "test_labels, test_texts = get_labels_and_texts('test.ft.txt.bz2')"
      ],
      "metadata": {
        "id": "kVSQ9nmRwmMR"
      },
      "execution_count": null,
      "outputs": []
    },
    {
      "cell_type": "code",
      "source": [
        "import re\n",
        "NON_ALPHANUM = re.compile(r'[\\W]')\n",
        "NON_ASCII = re.compile(r'[^a-z0-1\\s]')\n",
        "def normalize_texts(texts):\n",
        "    normalized_texts = []\n",
        "    for text in texts:\n",
        "        lower = text.lower()\n",
        "        no_punctuation = NON_ALPHANUM.sub(r' ', lower)\n",
        "        no_non_ascii = NON_ASCII.sub(r'', no_punctuation)\n",
        "        normalized_texts.append(no_non_ascii)\n",
        "    return normalized_texts\n",
        "        \n",
        "train_texts = normalize_texts(train_texts)\n",
        "test_texts = normalize_texts(test_texts)"
      ],
      "metadata": {
        "id": "jHpkH-QEwqQT"
      },
      "execution_count": null,
      "outputs": []
    },
    {
      "cell_type": "code",
      "source": [
        "from sklearn.feature_extraction.text import TfidfVectorizer\n",
        "vectorizer = TfidfVectorizer()\n",
        "X_train = vectorizer.fit_transform(train_texts)\n",
        "X_train.shape"
      ],
      "metadata": {
        "colab": {
          "base_uri": "https://localhost:8080/"
        },
        "id": "VIq1r7dWwuD-",
        "outputId": "aad4a50a-5430-482d-a021-8b3f9085b1f6"
      },
      "execution_count": null,
      "outputs": [
        {
          "output_type": "execute_result",
          "data": {
            "text/plain": [
              "(3600000, 905917)"
            ]
          },
          "metadata": {},
          "execution_count": 6
        }
      ]
    },
    {
      "cell_type": "code",
      "source": [
        "X_test = vectorizer.transform(test_texts)"
      ],
      "metadata": {
        "id": "PDH7jOOUwx1-"
      },
      "execution_count": null,
      "outputs": []
    },
    {
      "cell_type": "code",
      "source": [
        "del test_texts\n",
        "del train_texts"
      ],
      "metadata": {
        "id": "uRxQqSd2yZSs"
      },
      "execution_count": null,
      "outputs": []
    },
    {
      "cell_type": "code",
      "source": [
        "y_train = train_labels\n",
        "y_test = test_labels"
      ],
      "metadata": {
        "id": "zLg13DI5yVaa"
      },
      "execution_count": null,
      "outputs": []
    },
    {
      "cell_type": "code",
      "source": [
        "from sklearn.feature_selection import SelectKBest\n",
        "from sklearn.feature_selection import f_classif\n",
        "FS = SelectKBest(f_classif, k=1000)\n",
        "X_f_class = FS.fit_transform(X_train, y_train)\n",
        "X_f_class.shape"
      ],
      "metadata": {
        "colab": {
          "base_uri": "https://localhost:8080/"
        },
        "id": "AeBMBZ-jw2VH",
        "outputId": "0d3347d8-faef-4346-d062-663333d53268"
      },
      "execution_count": null,
      "outputs": [
        {
          "output_type": "execute_result",
          "data": {
            "text/plain": [
              "(3600000, 1000)"
            ]
          },
          "metadata": {},
          "execution_count": 10
        }
      ]
    },
    {
      "cell_type": "code",
      "source": [
        "X_f_class_test = FS.transform(X_test)"
      ],
      "metadata": {
        "id": "AL2NL4V5w8da"
      },
      "execution_count": null,
      "outputs": []
    },
    {
      "cell_type": "code",
      "source": [
        "del X_train \n",
        "del X_test"
      ],
      "metadata": {
        "id": "7t2fEAvuzh8U"
      },
      "execution_count": null,
      "outputs": []
    },
    {
      "cell_type": "code",
      "source": [
        "def convert_sparse_matrix_to_sparse_tensor(X):\n",
        "    coo = X.tocoo()\n",
        "    indices = np.mat([coo.row, coo.col]).transpose()\n",
        "    return SparseTensor(indices, coo.data, coo.shape)"
      ],
      "metadata": {
        "id": "EIG852K_w-Xj"
      },
      "execution_count": null,
      "outputs": []
    },
    {
      "cell_type": "code",
      "source": [
        "traindata = reorder(convert_sparse_matrix_to_sparse_tensor(X_f_class))\n",
        "testdata = reorder(convert_sparse_matrix_to_sparse_tensor(X_f_class_test))"
      ],
      "metadata": {
        "id": "Hrfas8KvxAKu"
      },
      "execution_count": null,
      "outputs": []
    },
    {
      "cell_type": "code",
      "source": [
        "del X_f_class\n",
        "del X_f_class_test"
      ],
      "metadata": {
        "id": "LFuP1QQwzvmS"
      },
      "execution_count": null,
      "outputs": []
    },
    {
      "cell_type": "code",
      "source": [
        "tfidf = Input(shape=(1000,))\n",
        "x1 = layers.Dense(128, activation='relu')(tfidf)\n",
        "x1 = layers.Dense(64, activation='relu')(x1)\n",
        "outputs = Dense(1, activation='sigmoid')(x1)\n",
        "model = Model(inputs=tfidf, outputs=outputs)"
      ],
      "metadata": {
        "id": "MMjDRp9WxIw2"
      },
      "execution_count": null,
      "outputs": []
    },
    {
      "cell_type": "code",
      "source": [
        "plot_model(model)"
      ],
      "metadata": {
        "colab": {
          "base_uri": "https://localhost:8080/",
          "height": 369
        },
        "id": "fEs3_l70xI34",
        "outputId": "2a088d85-888b-4a60-adad-6c6989610e46"
      },
      "execution_count": null,
      "outputs": [
        {
          "output_type": "execute_result",
          "data": {
            "image/png": "[encoded data removed]",
            "text/plain": [
              "<IPython.core.display.Image object>"
            ]
          },
          "metadata": {},
          "execution_count": 17
        }
      ]
    },
    {
      "cell_type": "code",
      "source": [
        "mch = callbacks.ModelCheckpoint('../models/fianl-model.h5' , monitor='accuracy' , mode ='max' , save_best_only=True)"
      ],
      "metadata": {
        "id": "uDk4eXqDxI_D"
      },
      "execution_count": null,
      "outputs": []
    },
    {
      "cell_type": "code",
      "source": [
        "model.compile(loss='binary_crossentropy',\n",
        "              optimizer='adam',\n",
        "              metrics=['accuracy'])"
      ],
      "metadata": {
        "id": "hsgsSMFwxJFw"
      },
      "execution_count": null,
      "outputs": []
    },
    {
      "cell_type": "code",
      "source": [
        "batch_size =128\n",
        "model.fit(traindata, y_train, batch_size=batch_size, epochs=10 , callbacks=[mch] ,validation_data = (testdata ,y_test ) )"
      ],
      "metadata": {
        "colab": {
          "base_uri": "https://localhost:8080/"
        },
        "id": "QLHGlGVCxYO6",
        "outputId": "b0a07ba1-c26c-44ab-f82b-a2c76eadc6ca"
      },
      "execution_count": null,
      "outputs": [
        {
          "output_type": "stream",
          "name": "stdout",
          "text": [
            "Epoch 1/10\n"
          ]
        },
        {
          "output_type": "stream",
          "name": "stderr",
          "text": [
            "/usr/local/lib/python3.8/dist-packages/tensorflow/python/framework/indexed_slices.py:444: UserWarning: Converting sparse IndexedSlices(IndexedSlices(indices=Tensor(\"gradient_tape/model/dense/embedding_lookup_sparse/Reshape_1:0\", shape=(None,), dtype=int32), values=Tensor(\"gradient_tape/model/dense/embedding_lookup_sparse/Reshape:0\", shape=(None, 128), dtype=float32), dense_shape=Tensor(\"gradient_tape/model/dense/embedding_lookup_sparse/Cast:0\", shape=(2,), dtype=int32))) to a dense Tensor of unknown shape. This may consume a large amount of memory.\n",
            "  warnings.warn(\n"
          ]
        },
        {
          "output_type": "stream",
          "name": "stdout",
          "text": [
            "28125/28125 [==============================] - 167s 6ms/step - loss: 0.2400 - accuracy: 0.9006 - val_loss: 0.2296 - val_accuracy: 0.9056\n",
            "Epoch 2/10\n",
            "28125/28125 [==============================] - 163s 6ms/step - loss: 0.2227 - accuracy: 0.9085 - val_loss: 0.2248 - val_accuracy: 0.9075\n",
            "Epoch 3/10\n",
            "28125/28125 [==============================] - 159s 5ms/step - loss: 0.2159 - accuracy: 0.9117 - val_loss: 0.2237 - val_accuracy: 0.9080\n",
            "Epoch 4/10\n",
            "28125/28125 [==============================] - 156s 5ms/step - loss: 0.2114 - accuracy: 0.9136 - val_loss: 0.2243 - val_accuracy: 0.9085\n",
            "Epoch 5/10\n",
            "28125/28125 [==============================] - 157s 5ms/step - loss: 0.2082 - accuracy: 0.9151 - val_loss: 0.2255 - val_accuracy: 0.9082\n",
            "Epoch 6/10\n",
            "28125/28125 [==============================] - 158s 5ms/step - loss: 0.2056 - accuracy: 0.9163 - val_loss: 0.2258 - val_accuracy: 0.9073\n",
            "Epoch 7/10\n",
            "28125/28125 [==============================] - 156s 5ms/step - loss: 0.2035 - accuracy: 0.9172 - val_loss: 0.2272 - val_accuracy: 0.9069\n",
            "Epoch 8/10\n",
            "28125/28125 [==============================] - 155s 5ms/step - loss: 0.2018 - accuracy: 0.9181 - val_loss: 0.2284 - val_accuracy: 0.9067\n",
            "Epoch 9/10\n",
            "28125/28125 [==============================] - 155s 5ms/step - loss: 0.2003 - accuracy: 0.9188 - val_loss: 0.2280 - val_accuracy: 0.9065\n",
            "Epoch 10/10\n",
            "28125/28125 [==============================] - 154s 5ms/step - loss: 0.1990 - accuracy: 0.9194 - val_loss: 0.2300 - val_accuracy: 0.9062\n"
          ]
        },
        {
          "output_type": "execute_result",
          "data": {
            "text/plain": [
              "<keras.callbacks.History at 0x7fa856fefd60>"
            ]
          },
          "metadata": {},
          "execution_count": 20
        }
      ]
    },
    {
      "cell_type": "code",
      "source": [],
      "metadata": {
        "id": "VQ-UEHlaxYUS"
      },
      "execution_count": null,
      "outputs": []
    }
  ]
}