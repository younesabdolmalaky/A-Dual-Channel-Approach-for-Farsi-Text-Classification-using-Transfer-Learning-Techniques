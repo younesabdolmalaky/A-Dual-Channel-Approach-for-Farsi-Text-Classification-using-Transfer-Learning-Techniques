{
  "nbformat": 4,
  "nbformat_minor": 0,
  "metadata": {
    "colab": {
      "provenance": []
    },
    "kernelspec": {
      "name": "python3",
      "display_name": "Python 3"
    },
    "language_info": {
      "name": "python"
    },
    "accelerator": "GPU",
    "gpuClass": "standard"
  },
  "cells": [
    {
      "cell_type": "code",
      "execution_count": 1,
      "metadata": {
        "colab": {
          "base_uri": "https://localhost:8080/"
        },
        "id": "jt5SXKEGnsXV",
        "outputId": "a3b6fe34-fed9-49a8-ed76-a08b8cce5516"
      },
      "outputs": [
        {
          "output_type": "stream",
          "name": "stdout",
          "text": [
            "Mounted at /content/drive\n"
          ]
        }
      ],
      "source": [
        "from google.colab import drive\n",
        "drive.mount('/content/drive')"
      ]
    },
    {
      "cell_type": "code",
      "source": [
        "from tensorflow.keras.preprocessing.text import Tokenizer, text_to_word_sequence\n",
        "from tensorflow.keras.preprocessing.sequence import pad_sequences\n",
        "from tensorflow.keras import callbacks\n",
        "from tensorflow.keras import layers\n",
        "from tensorflow.keras.preprocessing.sequence import pad_sequences\n",
        "from tensorflow.keras.models import Model\n",
        "from tensorflow.keras.layers import Input , Dense\n",
        "from tensorflow.keras.utils import plot_model\n",
        "from tensorflow.keras.utils import Sequence\n",
        "import bz2\n",
        "import numpy as np\n",
        "import pickle\n",
        "import mmap \n",
        "import re"
      ],
      "metadata": {
        "id": "SPAytCKan8cG"
      },
      "execution_count": 2,
      "outputs": []
    },
    {
      "cell_type": "code",
      "source": [
        "\n",
        "MAX_FEATURES = 12000\n",
        "sequences = Input(shape=(255,))\n",
        "embedded = layers.Embedding(MAX_FEATURES, 32)(sequences)\n",
        "x = layers.Conv1D(64, 3, activation='relu')(embedded)\n",
        "x = layers.BatchNormalization()(x)\n",
        "x = layers.MaxPool1D(3)(x)\n",
        "x = layers.Conv1D(32, 5, activation='relu')(x)\n",
        "x = layers.BatchNormalization()(x)\n",
        "x = layers.MaxPool1D(5)(x)\n",
        "x = layers.Conv1D(16, 5, activation='relu')(x)\n",
        "x = layers.GlobalMaxPool1D()(x)\n",
        "x = layers.Flatten()(x)\n",
        "x = layers.Dense(64, activation='relu')(x)\n",
        "outputs = Dense(1, activation='sigmoid')(x)"
      ],
      "metadata": {
        "id": "vFnx1RGKn85i"
      },
      "execution_count": 3,
      "outputs": []
    },
    {
      "cell_type": "code",
      "source": [
        "model = Model(inputs=sequences, outputs=outputs)"
      ],
      "metadata": {
        "id": "bxuULOvLn89a"
      },
      "execution_count": 4,
      "outputs": []
    },
    {
      "cell_type": "code",
      "source": [
        "mch = callbacks.ModelCheckpoint('../models/fianl-model-cnn.h5' , monitor='accuracy' , mode ='max' , save_best_only=True)\n"
      ],
      "metadata": {
        "id": "jCcYXcfen9DQ"
      },
      "execution_count": 5,
      "outputs": []
    },
    {
      "cell_type": "code",
      "source": [
        "model.compile(loss='binary_crossentropy',\n",
        "              optimizer='adam',\n",
        "              metrics=['accuracy'])"
      ],
      "metadata": {
        "id": "PJYh8802n9IQ"
      },
      "execution_count": 6,
      "outputs": []
    },
    {
      "cell_type": "code",
      "source": [
        "with open('/content/drive/MyDrive/persian-sentiment-analysis/train_pad_sequences1.pickle' , 'rb') as f:\n",
        "  seq_1 = pickle.load(f)\n",
        "\n",
        "with open('/content/drive/MyDrive/persian-sentiment-analysis/train_pad_sequences2.pickle' , 'rb') as f:\n",
        "  seq_2 = pickle.load(f)\n",
        "\n",
        "with open('/content/train_pad_sequences.pickle' , 'wb') as f:\n",
        "  pickle.dump(np.concatenate((seq_1 , seq_2), axis=0) , f)\n",
        "\n",
        "del seq_1\n",
        "del seq_2"
      ],
      "metadata": {
        "id": "yDY55z_9oZR1"
      },
      "execution_count": 7,
      "outputs": []
    },
    {
      "cell_type": "code",
      "source": [
        "class DataGenerator(Sequence):\n",
        "    def __init__(self , dataset_size ,x_file, y_file, batch_size=32):\n",
        "        self.dataset_size = dataset_size\n",
        "        self.x_file = x_file\n",
        "        self.y_file = y_file\n",
        "        self.batch_size = batch_size\n",
        "\n",
        "\n",
        "        with open(x_file, 'rb') as f:\n",
        "          mm = mmap.mmap(f.fileno(), 0, access=mmap.ACCESS_READ)\n",
        "          self.arr_train = np.load(mm , allow_pickle=True)\n",
        "        \n",
        "\n",
        "        with open(y_file, 'rb') as f:\n",
        "          mm = mmap.mmap(f.fileno(), 0, access=mmap.ACCESS_READ)\n",
        "          self.arr_y = np.load(mm , allow_pickle=True)\n",
        "\n",
        "\n",
        "    def __len__(self):\n",
        "        return int(np.ceil((self.dataset_size) / float(self.batch_size)))\n",
        "\n",
        "    def __getitem__(self, idx):\n",
        "        batch_X = self.arr_train[idx * self.batch_size:(idx + 1) * self.batch_size]\n",
        "        batch_y = self.arr_y[idx * self.batch_size:(idx + 1) * self.batch_size]\n",
        "\n",
        "        return batch_X, batch_y\n",
        "batch_size = 128\n",
        "dataset_size_train = 3600000\n",
        "dataset_size_test = 400000\n",
        "train_generator = DataGenerator(dataset_size_train,\"/content/train_pad_sequences.pickle\", \"/content/drive/MyDrive/persian-sentiment-analysis/train_labels.pickle\", batch_size=batch_size)\n",
        "test_generator = DataGenerator(dataset_size_test,\"/content/drive/MyDrive/persian-sentiment-analysis/test_pad_sequences.pickle\", \"/content/drive/MyDrive/persian-sentiment-analysis/test_labels.pickle\", batch_size=batch_size)"
      ],
      "metadata": {
        "id": "ER3cvqgyn9Nd"
      },
      "execution_count": 8,
      "outputs": []
    },
    {
      "cell_type": "code",
      "source": [
        "model.fit(train_generator, steps_per_epoch=len(train_generator), epochs=10 , validation_data=test_generator, validation_steps=len(test_generator),callbacks=[mch])"
      ],
      "metadata": {
        "colab": {
          "base_uri": "https://localhost:8080/"
        },
        "id": "ttSJsKJhn9SV",
        "outputId": "1083de2e-2f97-4ad7-96b5-99cc4c23785f"
      },
      "execution_count": 9,
      "outputs": [
        {
          "output_type": "stream",
          "name": "stdout",
          "text": [
            "Epoch 1/10\n",
            "28125/28125 [==============================] - 510s 18ms/step - loss: 0.1685 - accuracy: 0.9348 - val_loss: 0.1463 - val_accuracy: 0.9456\n",
            "Epoch 2/10\n",
            "28125/28125 [==============================] - 288s 10ms/step - loss: 0.1361 - accuracy: 0.9496 - val_loss: 0.1389 - val_accuracy: 0.9484\n",
            "Epoch 3/10\n",
            "28125/28125 [==============================] - 289s 10ms/step - loss: 0.1257 - accuracy: 0.9540 - val_loss: 0.1372 - val_accuracy: 0.9491\n",
            "Epoch 4/10\n",
            "28125/28125 [==============================] - 287s 10ms/step - loss: 0.1181 - accuracy: 0.9572 - val_loss: 0.1403 - val_accuracy: 0.9480\n",
            "Epoch 5/10\n",
            "28125/28125 [==============================] - 287s 10ms/step - loss: 0.1121 - accuracy: 0.9599 - val_loss: 0.1416 - val_accuracy: 0.9488\n",
            "Epoch 6/10\n",
            "28125/28125 [==============================] - 293s 10ms/step - loss: 0.1071 - accuracy: 0.9620 - val_loss: 0.1433 - val_accuracy: 0.9477\n",
            "Epoch 7/10\n",
            "28125/28125 [==============================] - 288s 10ms/step - loss: 0.1029 - accuracy: 0.9638 - val_loss: 0.1569 - val_accuracy: 0.9441\n",
            "Epoch 8/10\n",
            "28125/28125 [==============================] - 293s 10ms/step - loss: 0.0991 - accuracy: 0.9655 - val_loss: 0.1469 - val_accuracy: 0.9470\n",
            "Epoch 9/10\n",
            "28125/28125 [==============================] - 294s 10ms/step - loss: 0.0956 - accuracy: 0.9670 - val_loss: 0.1501 - val_accuracy: 0.9465\n",
            "Epoch 10/10\n",
            "28125/28125 [==============================] - 298s 11ms/step - loss: 0.0925 - accuracy: 0.9683 - val_loss: 0.1538 - val_accuracy: 0.9456\n"
          ]
        },
        {
          "output_type": "execute_result",
          "data": {
            "text/plain": [
              "<keras.callbacks.History at 0x7f4340388520>"
            ]
          },
          "metadata": {},
          "execution_count": 9
        }
      ]
    },
    {
      "cell_type": "code",
      "source": [],
      "metadata": {
        "id": "aF6p2DM6pAGB"
      },
      "execution_count": 9,
      "outputs": []
    },
    {
      "cell_type": "code",
      "source": [],
      "metadata": {
        "id": "yTTAk4xgn9cy"
      },
      "execution_count": null,
      "outputs": []
    },
    {
      "cell_type": "code",
      "source": [],
      "metadata": {
        "id": "sGAdU_O9n9ih"
      },
      "execution_count": null,
      "outputs": []
    },
    {
      "cell_type": "code",
      "source": [],
      "metadata": {
        "id": "4SXGPUo0n9nY"
      },
      "execution_count": null,
      "outputs": []
    },
    {
      "cell_type": "code",
      "source": [],
      "metadata": {
        "id": "EOdsqd4Hn9rz"
      },
      "execution_count": null,
      "outputs": []
    },
    {
      "cell_type": "code",
      "source": [],
      "metadata": {
        "id": "NuAHX-khn9wI"
      },
      "execution_count": null,
      "outputs": []
    }
  ]
}