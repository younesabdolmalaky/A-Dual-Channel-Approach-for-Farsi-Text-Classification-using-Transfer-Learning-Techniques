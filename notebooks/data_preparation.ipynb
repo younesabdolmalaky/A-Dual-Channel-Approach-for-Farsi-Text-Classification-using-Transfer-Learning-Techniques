{
  "nbformat": 4,
  "nbformat_minor": 0,
  "metadata": {
    "colab": {
      "provenance": [],
      "authorship_tag": "ABX9TyPq9ee7D92DTXiYI+AdWqOh",
      "include_colab_link": true
    },
    "kernelspec": {
      "name": "python3",
      "display_name": "Python 3"
    },
    "language_info": {
      "name": "python"
    }
  },
  "cells": [
    {
      "cell_type": "markdown",
      "metadata": {
        "id": "view-in-github",
        "colab_type": "text"
      },
      "source": [
        "<a href=\"https://colab.research.google.com/github/younesabdolmalaky/A-Dual-Channel-Approach-for-Farsi-Text-Classification-using-Transfer-Learning-Techniques/blob/main/notebooks/data_preparation.ipynb\" target=\"_parent\"><img src=\"https://colab.research.google.com/assets/colab-badge.svg\" alt=\"Open In Colab\"/></a>"
      ]
    },
    {
      "cell_type": "code",
      "execution_count": 1,
      "metadata": {
        "colab": {
          "base_uri": "https://localhost:8080/"
        },
        "id": "bSjfRs-TrF8z",
        "outputId": "ce413724-dcb2-4634-d098-f2e2c03eae4b"
      },
      "outputs": [
        {
          "output_type": "stream",
          "name": "stdout",
          "text": [
            "Looking in indexes: https://pypi.org/simple, https://us-python.pkg.dev/colab-wheels/public/simple/\n",
            "Requirement already satisfied: kaggle in /usr/local/lib/python3.8/dist-packages (1.5.12)\n",
            "Requirement already satisfied: python-dateutil in /usr/local/lib/python3.8/dist-packages (from kaggle) (2.8.2)\n",
            "Requirement already satisfied: urllib3 in /usr/local/lib/python3.8/dist-packages (from kaggle) (1.24.3)\n",
            "Requirement already satisfied: python-slugify in /usr/local/lib/python3.8/dist-packages (from kaggle) (8.0.0)\n",
            "Requirement already satisfied: six>=1.10 in /usr/local/lib/python3.8/dist-packages (from kaggle) (1.15.0)\n",
            "Requirement already satisfied: certifi in /usr/local/lib/python3.8/dist-packages (from kaggle) (2022.12.7)\n",
            "Requirement already satisfied: tqdm in /usr/local/lib/python3.8/dist-packages (from kaggle) (4.64.1)\n",
            "Requirement already satisfied: requests in /usr/local/lib/python3.8/dist-packages (from kaggle) (2.25.1)\n",
            "Requirement already satisfied: text-unidecode>=1.3 in /usr/local/lib/python3.8/dist-packages (from python-slugify->kaggle) (1.3)\n",
            "Requirement already satisfied: idna<3,>=2.5 in /usr/local/lib/python3.8/dist-packages (from requests->kaggle) (2.10)\n",
            "Requirement already satisfied: chardet<5,>=3.0.2 in /usr/local/lib/python3.8/dist-packages (from requests->kaggle) (4.0.0)\n",
            "Downloading amazonreviews.zip to /content\n",
            " 99% 488M/493M [00:03<00:00, 169MB/s]\n",
            "100% 493M/493M [00:03<00:00, 166MB/s]\n",
            "Archive:  amazonreviews.zip\n",
            "  inflating: test.ft.txt.bz2         \n",
            "  inflating: train.ft.txt.bz2        \n"
          ]
        }
      ],
      "source": [
        "! pip install kaggle\n",
        "! mkdir ~/.kaggle\n",
        "! cp kaggle.json ~/.kaggle/\n",
        "! chmod 600 ~/.kaggle/kaggle.json\n",
        "! kaggle datasets download bittlingmayer/amazonreviews\n",
        "! unzip amazonreviews.zip"
      ]
    },
    {
      "cell_type": "code",
      "source": [
        "import numpy as np\n",
        "import bz2\n",
        "import re\n",
        "import pickle\n",
        "from tensorflow.keras.preprocessing.text import Tokenizer, text_to_word_sequence\n",
        "from tensorflow.keras.preprocessing.sequence import pad_sequences\n",
        "from tensorflow.keras import layers\n",
        "from tensorflow.keras.preprocessing.sequence import pad_sequences\n",
        "from tensorflow.keras.models import Model\n",
        "from tensorflow.keras.layers import Input , Dense\n",
        "from tensorflow.keras.utils import plot_model\n",
        "from tensorflow.keras import callbacks\n",
        "from sklearn.feature_extraction.text import TfidfVectorizer\n",
        "from sklearn.feature_selection import SelectKBest\n",
        "from sklearn.feature_selection import chi2"
      ],
      "metadata": {
        "id": "Pat_UyLAzAXf"
      },
      "execution_count": 5,
      "outputs": []
    },
    {
      "cell_type": "code",
      "source": [
        "def get_labels_and_texts(file):\n",
        "    labels = []\n",
        "    texts = []\n",
        "    for line in bz2.BZ2File(file):\n",
        "        x = line.decode(\"utf-8\")\n",
        "        labels.append(int(x[9]) - 1)\n",
        "        texts.append(x[10:].strip())\n",
        "    return np.array(labels), texts\n",
        "train_labels, train_texts = get_labels_and_texts('train.ft.txt.bz2')\n",
        "test_labels, test_texts = get_labels_and_texts('test.ft.txt.bz2')\n"
      ],
      "metadata": {
        "id": "YgcLu2eZv4bE"
      },
      "execution_count": 22,
      "outputs": []
    },
    {
      "cell_type": "code",
      "source": [
        "NON_ALPHANUM = re.compile(r'[\\W]')\n",
        "NON_ASCII = re.compile(r'[^a-z0-1\\s]')\n",
        "def normalize_texts(texts):\n",
        "    normalized_texts = []\n",
        "    for text in texts:\n",
        "        lower = text.lower()\n",
        "        no_punctuation = NON_ALPHANUM.sub(r' ', lower)\n",
        "        no_non_ascii = NON_ASCII.sub(r'', no_punctuation)\n",
        "        normalized_texts.append(no_non_ascii)\n",
        "    return normalized_texts\n",
        "        \n",
        "train_texts = normalize_texts(train_texts)\n",
        "test_texts = normalize_texts(test_texts)"
      ],
      "metadata": {
        "id": "LQy0c0nXv58j"
      },
      "execution_count": 23,
      "outputs": []
    },
    {
      "cell_type": "code",
      "source": [
        "vectorizer = TfidfVectorizer()\n",
        "X_train = vectorizer.fit_transform(train_texts)\n",
        "X_test = vectorizer.transform(test_texts)"
      ],
      "metadata": {
        "id": "L96zZDG8wgoS"
      },
      "execution_count": 24,
      "outputs": []
    },
    {
      "cell_type": "code",
      "source": [
        "Chi2 = SelectKBest(chi2, k=1000)\n",
        "X_chi2_train = Chi2.fit_transform(X_train, train_labels)\n",
        "X_chi2_test = Chi2.transform(X_test)"
      ],
      "metadata": {
        "id": "PSHw1Lzjwlcf"
      },
      "execution_count": 25,
      "outputs": []
    },
    {
      "cell_type": "code",
      "source": [
        "del X_train \n",
        "del X_test"
      ],
      "metadata": {
        "id": "AN_PMBRpxApt"
      },
      "execution_count": 26,
      "outputs": []
    },
    {
      "cell_type": "code",
      "source": [
        "with open('X_chi2_train.pickle', 'wb') as handle:\n",
        "    pickle.dump(X_chi2_train, handle)\n",
        "\n",
        "with open('X_chi2_test.pickle', 'wb') as handle:\n",
        "    pickle.dump(X_chi2_test, handle)\n",
        "\n",
        "with open('vectorizer.pickle', 'wb') as handle:\n",
        "    pickle.dump(vectorizer, handle)\n",
        "\n",
        "with open('Chi2.pickle', 'wb') as handle:\n",
        "    pickle.dump(Chi2, handle)"
      ],
      "metadata": {
        "id": "oNunilrRwwc8"
      },
      "execution_count": 27,
      "outputs": []
    },
    {
      "cell_type": "code",
      "source": [
        "del X_chi2_train \n",
        "del X_chi2_test\n",
        "del vectorizer\n",
        "del Chi2"
      ],
      "metadata": {
        "id": "gOiG2zbkwljN"
      },
      "execution_count": 28,
      "outputs": []
    },
    {
      "cell_type": "code",
      "source": [
        "MAX_FEATURES = 12000\n",
        "tokenizer = Tokenizer(num_words=MAX_FEATURES)\n",
        "tokenizer.fit_on_texts(train_texts)"
      ],
      "metadata": {
        "id": "Yj2VtMWxv7fT"
      },
      "execution_count": 29,
      "outputs": []
    },
    {
      "cell_type": "code",
      "source": [
        "train_texts = tokenizer.texts_to_sequences(train_texts)\n",
        "test_texts = tokenizer.texts_to_sequences(test_texts)"
      ],
      "metadata": {
        "id": "xLbfQ49Av95E"
      },
      "execution_count": 30,
      "outputs": []
    },
    {
      "cell_type": "code",
      "source": [
        "MAX_LENGTH = max(len(train_ex) for train_ex in train_texts)\n",
        "train_texts = pad_sequences(train_texts, maxlen=MAX_LENGTH)\n",
        "test_texts = pad_sequences(test_texts, maxlen=MAX_LENGTH)"
      ],
      "metadata": {
        "id": "1ycFc3MVv_Ie"
      },
      "execution_count": 31,
      "outputs": []
    },
    {
      "cell_type": "code",
      "source": [
        "MAX_LENGTH"
      ],
      "metadata": {
        "colab": {
          "base_uri": "https://localhost:8080/"
        },
        "id": "eBfJKpW6x73y",
        "outputId": "5c8e0367-0d79-41d0-a443-848a73cfcc87"
      },
      "execution_count": 32,
      "outputs": [
        {
          "output_type": "execute_result",
          "data": {
            "text/plain": [
              "255"
            ]
          },
          "metadata": {},
          "execution_count": 32
        }
      ]
    },
    {
      "cell_type": "code",
      "source": [
        "with open('train_pad_sequences.pickle', 'wb') as handle:\n",
        "    pickle.dump(train_texts, handle)\n",
        "\n",
        "with open('train_labels.pickle', 'wb') as handle:\n",
        "    pickle.dump(train_labels, handle)\n",
        "\n",
        "with open('test_pad_sequences.pickle', 'wb') as handle:\n",
        "    pickle.dump(test_texts, handle)\n",
        "\n",
        "with open('test_labels.pickle', 'wb') as handle:\n",
        "    pickle.dump(test_labels, handle)\n",
        "\n",
        "with open('tokenizer.pickle', 'wb') as handle:\n",
        "    pickle.dump(tokenizer, handle)\n"
      ],
      "metadata": {
        "id": "MASyuaQKwFOG"
      },
      "execution_count": 33,
      "outputs": []
    },
    {
      "cell_type": "code",
      "source": [
        "del train_texts\n",
        "del train_labels\n",
        "del test_texts\n",
        "del test_labels"
      ],
      "metadata": {
        "id": "Y2f0m5mswPM9"
      },
      "execution_count": 34,
      "outputs": []
    },
    {
      "cell_type": "code",
      "source": [
        "from google.colab import drive\n",
        "from pydrive.auth import GoogleAuth\n",
        "from google.colab import auth\n",
        "drive.mount('/content/drive')\n",
        "auth.authenticate_user()"
      ],
      "metadata": {
        "colab": {
          "base_uri": "https://localhost:8080/"
        },
        "id": "KkvXsujw42e1",
        "outputId": "196a74d8-f691-4438-c53e-6c1f632eab50"
      },
      "execution_count": 35,
      "outputs": [
        {
          "output_type": "stream",
          "name": "stdout",
          "text": [
            "Drive already mounted at /content/drive; to attempt to forcibly remount, call drive.mount(\"/content/drive\", force_remount=True).\n"
          ]
        }
      ]
    },
    {
      "cell_type": "code",
      "source": [
        "!pip install gupload"
      ],
      "metadata": {
        "colab": {
          "base_uri": "https://localhost:8080/"
        },
        "id": "l9H3Y7ar5Uqf",
        "outputId": "d988ebb6-6373-472e-dccf-d075381361e4"
      },
      "execution_count": 36,
      "outputs": [
        {
          "output_type": "stream",
          "name": "stdout",
          "text": [
            "Looking in indexes: https://pypi.org/simple, https://us-python.pkg.dev/colab-wheels/public/simple/\n",
            "Requirement already satisfied: gupload in /usr/local/lib/python3.8/dist-packages (1.1.0)\n",
            "Requirement already satisfied: click==7.0 in /usr/local/lib/python3.8/dist-packages (from gupload) (7.0)\n",
            "Requirement already satisfied: google-api-python-client==1.7.10 in /usr/local/lib/python3.8/dist-packages (from gupload) (1.7.10)\n",
            "Requirement already satisfied: six<2dev,>=1.6.1 in /usr/local/lib/python3.8/dist-packages (from google-api-python-client==1.7.10->gupload) (1.15.0)\n",
            "Requirement already satisfied: google-auth>=1.4.1 in /usr/local/lib/python3.8/dist-packages (from google-api-python-client==1.7.10->gupload) (2.16.0)\n",
            "Requirement already satisfied: httplib2<1dev,>=0.9.2 in /usr/local/lib/python3.8/dist-packages (from google-api-python-client==1.7.10->gupload) (0.17.4)\n",
            "Requirement already satisfied: uritemplate<4dev,>=3.0.0 in /usr/local/lib/python3.8/dist-packages (from google-api-python-client==1.7.10->gupload) (3.0.1)\n",
            "Requirement already satisfied: google-auth-httplib2>=0.0.3 in /usr/local/lib/python3.8/dist-packages (from google-api-python-client==1.7.10->gupload) (0.1.0)\n",
            "Requirement already satisfied: cachetools<6.0,>=2.0.0 in /usr/local/lib/python3.8/dist-packages (from google-auth>=1.4.1->google-api-python-client==1.7.10->gupload) (5.3.0)\n",
            "Requirement already satisfied: pyasn1-modules>=0.2.1 in /usr/local/lib/python3.8/dist-packages (from google-auth>=1.4.1->google-api-python-client==1.7.10->gupload) (0.2.8)\n",
            "Requirement already satisfied: rsa<5,>=3.1.4 in /usr/local/lib/python3.8/dist-packages (from google-auth>=1.4.1->google-api-python-client==1.7.10->gupload) (4.9)\n",
            "Requirement already satisfied: pyasn1<0.5.0,>=0.4.6 in /usr/local/lib/python3.8/dist-packages (from pyasn1-modules>=0.2.1->google-auth>=1.4.1->google-api-python-client==1.7.10->gupload) (0.4.8)\n"
          ]
        }
      ]
    },
    {
      "cell_type": "code",
      "source": [
        "!gupload --to '1ReTDMH4U64tjTaTI31Yc-BRMqs3wD7-K' /content/X_chi2_train.pickle\n",
        "!gupload --to '1ReTDMH4U64tjTaTI31Yc-BRMqs3wD7-K' /content/X_chi2_test.pickle\n",
        "!gupload --to '1ReTDMH4U64tjTaTI31Yc-BRMqs3wD7-K' /content/vectorizer.pickle\n",
        "!gupload --to '1ReTDMH4U64tjTaTI31Yc-BRMqs3wD7-K' /content/Chi2.pickle\n",
        "!gupload --to '1ReTDMH4U64tjTaTI31Yc-BRMqs3wD7-K' /content/train_pad_sequences.pickle\n",
        "!gupload --to '1ReTDMH4U64tjTaTI31Yc-BRMqs3wD7-K' /content/test_pad_sequences.pickle\n",
        "!gupload --to '1ReTDMH4U64tjTaTI31Yc-BRMqs3wD7-K' /content/test_labels.pickle\n",
        "!gupload --to '1ReTDMH4U64tjTaTI31Yc-BRMqs3wD7-K' /content/tokenizer.pickle\n",
        "!gupload --to '1ReTDMH4U64tjTaTI31Yc-BRMqs3wD7-K' /content/train_labels.pickle"
      ],
      "metadata": {
        "colab": {
          "base_uri": "https://localhost:8080/"
        },
        "id": "VxkNWsi9vy9C",
        "outputId": "0ef2b14a-0e7f-4078-e89d-33e0b7a9c540"
      },
      "execution_count": 37,
      "outputs": [
        {
          "output_type": "stream",
          "name": "stdout",
          "text": [
            "Uploading file: /content/X_chi2_train.pickle as: X_chi2_train.pickle\n",
            "Uploading file: /content/X_chi2_test.pickle as: X_chi2_test.pickle\n",
            "Uploading file: /content/vectorizer.pickle as: vectorizer.pickle\n",
            "Uploading file: /content/Chi2.pickle as: Chi2.pickle\n",
            "Uploading file: /content/train_pad_sequences.pickle as: train_pad_sequences.pickle\n",
            "^C\n",
            "Uploading file: /content/test_pad_sequences.pickle as: test_pad_sequences.pickle\n",
            "Uploading file: /content/test_labels.pickle as: test_labels.pickle\n",
            "Uploading file: /content/tokenizer.pickle as: tokenizer.pickle\n",
            "Uploading file: /content/train_labels.pickle as: train_labels.pickle\n"
          ]
        }
      ]
    },
    {
      "cell_type": "code",
      "source": [
        "!zip -r train_pad_sequences.zip /content/train_pad_sequences.pickle"
      ],
      "metadata": {
        "colab": {
          "base_uri": "https://localhost:8080/"
        },
        "id": "P1M0TuvFAekT",
        "outputId": "20789859-d85a-4220-9692-359d23d632f1"
      },
      "execution_count": 45,
      "outputs": [
        {
          "output_type": "stream",
          "name": "stdout",
          "text": [
            "updating: content/train_pad_sequences.pickle (deflated 87%)\n"
          ]
        }
      ]
    },
    {
      "cell_type": "code",
      "source": [
        "!gupload --to '1ReTDMH4U64tjTaTI31Yc-BRMqs3wD7-K' /content/train_pad_sequences.zip"
      ],
      "metadata": {
        "colab": {
          "base_uri": "https://localhost:8080/"
        },
        "id": "ywEN0fB2BHUn",
        "outputId": "ffcf3e6b-30d1-48dd-deba-084855d06afb"
      },
      "execution_count": 47,
      "outputs": [
        {
          "output_type": "stream",
          "name": "stdout",
          "text": [
            "Uploading file: /content/train_pad_sequences.zip as: train_pad_sequences.zip\n"
          ]
        }
      ]
    },
    {
      "cell_type": "code",
      "source": [],
      "metadata": {
        "id": "1RbQz308COgU"
      },
      "execution_count": null,
      "outputs": []
    }
  ]
}