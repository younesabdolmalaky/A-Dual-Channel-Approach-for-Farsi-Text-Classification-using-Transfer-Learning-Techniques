{
  "nbformat": 4,
  "nbformat_minor": 0,
  "metadata": {
    "colab": {
      "provenance": []
    },
    "kernelspec": {
      "name": "python3",
      "display_name": "Python 3"
    },
    "language_info": {
      "name": "python"
    },
    "accelerator": "GPU",
    "gpuClass": "standard"
  },
  "cells": [
    {
      "cell_type": "code",
      "execution_count": 1,
      "metadata": {
        "colab": {
          "base_uri": "https://localhost:8080/"
        },
        "id": "rmltUaA0gxY1",
        "outputId": "4ffb2497-fa77-4e74-c2f2-337869e434ed"
      },
      "outputs": [
        {
          "output_type": "stream",
          "name": "stdout",
          "text": [
            "Mounted at /content/drive\n"
          ]
        }
      ],
      "source": [
        "from google.colab import drive\n",
        "drive.mount('/content/drive')"
      ]
    },
    {
      "cell_type": "code",
      "source": [
        "from tensorflow.keras import callbacks\n",
        "from tensorflow.keras.models import Model\n",
        "from tensorflow.keras.layers import Input , Dense\n",
        "import pickle\n",
        "import numpy as np\n",
        "from keras.utils import Sequence\n",
        "import mmap "
      ],
      "metadata": {
        "id": "putVwab6g6oM"
      },
      "execution_count": 1,
      "outputs": []
    },
    {
      "cell_type": "code",
      "source": [
        "tfidf = Input(shape=(1000,))\n",
        "x1 = Dense(128, activation='relu')(tfidf)\n",
        "x1 = Dense(64, activation='relu')(x1)\n",
        "outputs = Dense(1, activation='sigmoid')(x1)\n",
        "model = Model(inputs=tfidf, outputs=outputs)"
      ],
      "metadata": {
        "id": "4dTatKJGg7Az"
      },
      "execution_count": 2,
      "outputs": []
    },
    {
      "cell_type": "code",
      "source": [
        "mch = callbacks.ModelCheckpoint('../models/fianl-model-tfidf.h5' , monitor='accuracy' , mode ='max' , save_best_only=True)\n"
      ],
      "metadata": {
        "id": "AOS1tL2Gg7F_"
      },
      "execution_count": 3,
      "outputs": []
    },
    {
      "cell_type": "code",
      "source": [
        "model.compile(loss='binary_crossentropy',\n",
        "              optimizer='adam',\n",
        "              metrics=['accuracy'])\n",
        "     \n"
      ],
      "metadata": {
        "id": "B8-BDrROg7LA"
      },
      "execution_count": 4,
      "outputs": []
    },
    {
      "cell_type": "code",
      "source": [
        "class DataGenerator(Sequence):\n",
        "    def __init__(self,dataset_size, batch_size, x_file, y_file):\n",
        "        self.dataset_size = dataset_size\n",
        "        self.batch_size = batch_size\n",
        "        self.x_file = x_file\n",
        "        self.y_file = y_file\n",
        "\n",
        "        with open(x_file, 'rb') as f:\n",
        "          mm = mmap.mmap(f.fileno(), 0, access=mmap.ACCESS_READ)\n",
        "          self.arr_train = np.load(mm , allow_pickle=True)\n",
        "\n",
        "        with open(y_file, 'rb') as f:\n",
        "          mm = mmap.mmap(f.fileno(), 0, access=mmap.ACCESS_READ)\n",
        "          self.arr_test = np.load(mm , allow_pickle=True)\n",
        "\n",
        "    def __len__(self):\n",
        "        return int(np.ceil(self.dataset_size / float(self.batch_size)))\n",
        "\n",
        "    def __getitem__(self, idx):\n",
        "        batch_X = self.arr_train[idx * self.batch_size:(idx + 1) * self.batch_size].toarray()\n",
        "        batch_y = self.arr_test[idx * self.batch_size:(idx + 1) * self.batch_size]\n",
        "\n",
        "        return batch_X, batch_y\n",
        "\n",
        "batch_size = 128\n",
        "dataset_size_train = 3600000\n",
        "dataset_size_test = 400000\n",
        "\n",
        "train_generator = DataGenerator(dataset_size_train , batch_size, '/content/drive/MyDrive/persian-sentiment-analysis/X_train_tfidf1.pickle', '/content/drive/MyDrive/persian-sentiment-analysis/train_labels.pickle')\n",
        "test_generator = DataGenerator(dataset_size_test , batch_size, '/content/drive/MyDrive/persian-sentiment-analysis/X_test_tfidf.pickle', '/content/drive/MyDrive/persian-sentiment-analysis/test_labels.pickle')\n",
        "\n",
        "\n",
        "     "
      ],
      "metadata": {
        "id": "tspC-GbRg7Oz"
      },
      "execution_count": 5,
      "outputs": []
    },
    {
      "cell_type": "code",
      "source": [
        "model.fit(train_generator, steps_per_epoch=len(train_generator), epochs=10 , validation_data=test_generator, validation_steps=len(test_generator),callbacks=[mch])\n"
      ],
      "metadata": {
        "colab": {
          "base_uri": "https://localhost:8080/"
        },
        "id": "ihdTFE5AhBtR",
        "outputId": "6add9f15-af71-4d61-b780-079482162f3d"
      },
      "execution_count": 6,
      "outputs": [
        {
          "output_type": "stream",
          "name": "stdout",
          "text": [
            "Epoch 1/10\n",
            "28125/28125 [==============================] - 138s 5ms/step - loss: 0.2624 - accuracy: 0.8892 - val_loss: 0.2461 - val_accuracy: 0.8974\n",
            "Epoch 2/10\n",
            "28125/28125 [==============================] - 130s 5ms/step - loss: 0.2382 - accuracy: 0.9010 - val_loss: 0.2396 - val_accuracy: 0.9002\n",
            "Epoch 3/10\n",
            "28125/28125 [==============================] - 132s 5ms/step - loss: 0.2290 - accuracy: 0.9055 - val_loss: 0.2395 - val_accuracy: 0.9007\n",
            "Epoch 4/10\n",
            "28125/28125 [==============================] - 130s 5ms/step - loss: 0.2232 - accuracy: 0.9081 - val_loss: 0.2387 - val_accuracy: 0.9008\n",
            "Epoch 5/10\n",
            "28125/28125 [==============================] - 130s 5ms/step - loss: 0.2192 - accuracy: 0.9102 - val_loss: 0.2393 - val_accuracy: 0.9006\n",
            "Epoch 6/10\n",
            "28125/28125 [==============================] - 130s 5ms/step - loss: 0.2160 - accuracy: 0.9115 - val_loss: 0.2398 - val_accuracy: 0.9002\n",
            "Epoch 7/10\n",
            "28125/28125 [==============================] - 131s 5ms/step - loss: 0.2136 - accuracy: 0.9127 - val_loss: 0.2411 - val_accuracy: 0.9003\n",
            "Epoch 8/10\n",
            "28125/28125 [==============================] - 129s 5ms/step - loss: 0.2114 - accuracy: 0.9138 - val_loss: 0.2429 - val_accuracy: 0.8999\n",
            "Epoch 9/10\n",
            "28125/28125 [==============================] - 129s 5ms/step - loss: 0.2097 - accuracy: 0.9146 - val_loss: 0.2427 - val_accuracy: 0.8995\n",
            "Epoch 10/10\n",
            "28125/28125 [==============================] - 130s 5ms/step - loss: 0.2082 - accuracy: 0.9152 - val_loss: 0.2434 - val_accuracy: 0.8994\n"
          ]
        },
        {
          "output_type": "execute_result",
          "data": {
            "text/plain": [
              "<keras.callbacks.History at 0x7fcddc096640>"
            ]
          },
          "metadata": {},
          "execution_count": 6
        }
      ]
    },
    {
      "cell_type": "code",
      "source": [],
      "metadata": {
        "id": "LGOqv4mZhBxx"
      },
      "execution_count": null,
      "outputs": []
    },
    {
      "cell_type": "code",
      "source": [],
      "metadata": {
        "id": "ozjo7_AhhB2D"
      },
      "execution_count": null,
      "outputs": []
    },
    {
      "cell_type": "code",
      "source": [],
      "metadata": {
        "id": "TuqNeH1MhB6b"
      },
      "execution_count": null,
      "outputs": []
    },
    {
      "cell_type": "code",
      "source": [],
      "metadata": {
        "id": "-Lr52pFhhB--"
      },
      "execution_count": null,
      "outputs": []
    },
    {
      "cell_type": "code",
      "source": [],
      "metadata": {
        "id": "xOv5JezmhCF-"
      },
      "execution_count": null,
      "outputs": []
    },
    {
      "cell_type": "code",
      "source": [],
      "metadata": {
        "id": "ZWOFJT5OhCS2"
      },
      "execution_count": null,
      "outputs": []
    },
    {
      "cell_type": "code",
      "source": [
        "b"
      ],
      "metadata": {
        "id": "MBJE-9ytg7S9"
      },
      "execution_count": null,
      "outputs": []
    }
  ]
}