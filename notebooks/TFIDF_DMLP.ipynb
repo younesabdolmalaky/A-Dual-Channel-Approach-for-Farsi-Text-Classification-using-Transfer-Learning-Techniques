{
  "nbformat": 4,
  "nbformat_minor": 0,
  "metadata": {
    "colab": {
      "provenance": [],
      "authorship_tag": "ABX9TyPSeZU2LZdGPstY/KQ6ckrY",
      "include_colab_link": true
    },
    "kernelspec": {
      "name": "python3",
      "display_name": "Python 3"
    },
    "language_info": {
      "name": "python"
    },
    "accelerator": "GPU",
    "gpuClass": "standard"
  },
  "cells": [
    {
      "cell_type": "markdown",
      "metadata": {
        "id": "view-in-github",
        "colab_type": "text"
      },
      "source": [
        "<a href=\"https://colab.research.google.com/github/younesabdolmalaky/A-Dual-Channel-Approach-for-Farsi-Text-Classification-using-Transfer-Learning-Techniques/blob/main/notebooks/TFIDF_DMLP.ipynb\" target=\"_parent\"><img src=\"https://colab.research.google.com/assets/colab-badge.svg\" alt=\"Open In Colab\"/></a>"
      ]
    },
    {
      "cell_type": "code",
      "execution_count": 3,
      "metadata": {
        "colab": {
          "base_uri": "https://localhost:8080/"
        },
        "id": "uQhnY96IwXbr",
        "outputId": "b81071b2-50bc-4604-eb24-c057ce2cd162"
      },
      "outputs": [
        {
          "output_type": "stream",
          "name": "stdout",
          "text": [
            "Mounted at /content/drive\n"
          ]
        }
      ],
      "source": [
        "from google.colab import drive\n",
        "drive.mount('/content/drive')"
      ]
    },
    {
      "cell_type": "code",
      "source": [
        "from tensorflow.keras import callbacks\n",
        "from tensorflow.keras.models import Model\n",
        "from tensorflow.keras.layers import Input , Dense\n",
        "import pickle\n",
        "import numpy as np\n",
        "from keras.utils import Sequence\n",
        "import mmap "
      ],
      "metadata": {
        "id": "-G4F0W6gwjKz"
      },
      "execution_count": 4,
      "outputs": []
    },
    {
      "cell_type": "code",
      "source": [
        "tfidf = Input(shape=(1000,))\n",
        "x1 = Dense(128, activation='relu')(tfidf)\n",
        "x1 = Dense(64, activation='relu')(x1)\n",
        "outputs = Dense(1, activation='sigmoid')(x1)\n",
        "model = Model(inputs=tfidf, outputs=outputs)"
      ],
      "metadata": {
        "id": "MMjDRp9WxIw2"
      },
      "execution_count": 10,
      "outputs": []
    },
    {
      "cell_type": "code",
      "source": [
        "mch = callbacks.ModelCheckpoint('../models/fianl-model.h5' , monitor='accuracy' , mode ='max' , save_best_only=True)"
      ],
      "metadata": {
        "id": "uDk4eXqDxI_D"
      },
      "execution_count": 11,
      "outputs": []
    },
    {
      "cell_type": "code",
      "source": [
        "model.compile(loss='binary_crossentropy',\n",
        "              optimizer='adam',\n",
        "              metrics=['accuracy'])"
      ],
      "metadata": {
        "id": "hsgsSMFwxJFw"
      },
      "execution_count": 12,
      "outputs": []
    },
    {
      "cell_type": "code",
      "source": [
        "class DataGenerator(Sequence):\n",
        "    def __init__(self,dataset_size, batch_size, x_file, y_file):\n",
        "        self.dataset_size = dataset_size\n",
        "        self.batch_size = batch_size\n",
        "        self.x_file = x_file\n",
        "        self.y_file = y_file\n",
        "\n",
        "        with open(x_file, 'rb') as f:\n",
        "          mm = mmap.mmap(f.fileno(), 0, access=mmap.ACCESS_READ)\n",
        "          self.arr_train = np.load(mm , allow_pickle=True)\n",
        "\n",
        "        with open(y_file, 'rb') as f:\n",
        "          mm = mmap.mmap(f.fileno(), 0, access=mmap.ACCESS_READ)\n",
        "          self.arr_test = np.load(mm , allow_pickle=True)\n",
        "\n",
        "    def __len__(self):\n",
        "        return int(np.ceil(self.dataset_size / float(self.batch_size)))\n",
        "\n",
        "    def __getitem__(self, idx):\n",
        "        batch_X = self.arr_train[idx * self.batch_size:(idx + 1) * self.batch_size].toarray()\n",
        "        batch_y = self.arr_test[idx * self.batch_size:(idx + 1) * self.batch_size]\n",
        "\n",
        "        return batch_X, batch_y\n",
        "\n",
        "batch_size = 8192\n",
        "dataset_size_train = 3600000\n",
        "dataset_size_test = 400000\n",
        "\n",
        "train_generator = DataGenerator(dataset_size_train , batch_size, '/content/drive/MyDrive/persian-sentiment-analysis/X_chi2_train.pickle', '/content/drive/MyDrive/persian-sentiment-analysis/train_labels.pickle')\n",
        "test_generator = DataGenerator(dataset_size_test , batch_size, '/content/drive/MyDrive/persian-sentiment-analysis/X_chi2_test.pickle', '/content/drive/MyDrive/persian-sentiment-analysis/test_labels.pickle')\n",
        "\n"
      ],
      "metadata": {
        "id": "MOqYRohkem7o"
      },
      "execution_count": 14,
      "outputs": []
    },
    {
      "cell_type": "code",
      "source": [
        "model.fit(train_generator, steps_per_epoch=len(train_generator), epochs=100 , validation_data=test_generator, validation_steps=len(test_generator),callbacks=[mch])"
      ],
      "metadata": {
        "id": "ZmauQh9CaOx0",
        "colab": {
          "base_uri": "https://localhost:8080/"
        },
        "outputId": "96f5dc94-ddc6-40e6-a88b-0459c910946a"
      },
      "execution_count": 15,
      "outputs": [
        {
          "output_type": "stream",
          "name": "stdout",
          "text": [
            "Epoch 1/100\n",
            "440/440 [==============================] - 50s 110ms/step - loss: 0.2972 - accuracy: 0.8776 - val_loss: 0.2587 - val_accuracy: 0.8929\n",
            "Epoch 2/100\n",
            "440/440 [==============================] - 44s 100ms/step - loss: 0.2535 - accuracy: 0.8945 - val_loss: 0.2485 - val_accuracy: 0.8960\n",
            "Epoch 3/100\n",
            "440/440 [==============================] - 42s 95ms/step - loss: 0.2443 - accuracy: 0.8981 - val_loss: 0.2428 - val_accuracy: 0.8991\n",
            "Epoch 4/100\n",
            "440/440 [==============================] - 51s 115ms/step - loss: 0.2378 - accuracy: 0.9012 - val_loss: 0.2369 - val_accuracy: 0.9017\n",
            "Epoch 5/100\n",
            "440/440 [==============================] - 50s 114ms/step - loss: 0.2335 - accuracy: 0.9032 - val_loss: 0.2345 - val_accuracy: 0.9029\n",
            "Epoch 6/100\n",
            "440/440 [==============================] - 42s 96ms/step - loss: 0.2300 - accuracy: 0.9049 - val_loss: 0.2323 - val_accuracy: 0.9039\n",
            "Epoch 7/100\n",
            "440/440 [==============================] - 42s 97ms/step - loss: 0.2271 - accuracy: 0.9063 - val_loss: 0.2306 - val_accuracy: 0.9048\n",
            "Epoch 8/100\n",
            "440/440 [==============================] - 42s 95ms/step - loss: 0.2248 - accuracy: 0.9074 - val_loss: 0.2309 - val_accuracy: 0.9047\n",
            "Epoch 9/100\n",
            "440/440 [==============================] - 44s 99ms/step - loss: 0.2226 - accuracy: 0.9084 - val_loss: 0.2283 - val_accuracy: 0.9059\n",
            "Epoch 10/100\n",
            "440/440 [==============================] - 43s 97ms/step - loss: 0.2208 - accuracy: 0.9092 - val_loss: 0.2288 - val_accuracy: 0.9056\n",
            "Epoch 11/100\n",
            "440/440 [==============================] - 43s 97ms/step - loss: 0.2192 - accuracy: 0.9099 - val_loss: 0.2273 - val_accuracy: 0.9067\n",
            "Epoch 12/100\n",
            "440/440 [==============================] - 48s 110ms/step - loss: 0.2177 - accuracy: 0.9106 - val_loss: 0.2273 - val_accuracy: 0.9065\n",
            "Epoch 13/100\n",
            "440/440 [==============================] - 47s 107ms/step - loss: 0.2165 - accuracy: 0.9112 - val_loss: 0.2273 - val_accuracy: 0.9065\n",
            "Epoch 14/100\n",
            "440/440 [==============================] - 44s 99ms/step - loss: 0.2152 - accuracy: 0.9117 - val_loss: 0.2270 - val_accuracy: 0.9066\n",
            "Epoch 15/100\n",
            "440/440 [==============================] - 42s 96ms/step - loss: 0.2140 - accuracy: 0.9122 - val_loss: 0.2315 - val_accuracy: 0.9045\n",
            "Epoch 16/100\n",
            "440/440 [==============================] - 42s 96ms/step - loss: 0.2131 - accuracy: 0.9127 - val_loss: 0.2271 - val_accuracy: 0.9067\n",
            "Epoch 17/100\n",
            "440/440 [==============================] - 45s 101ms/step - loss: 0.2122 - accuracy: 0.9131 - val_loss: 0.2270 - val_accuracy: 0.9065\n",
            "Epoch 18/100\n",
            "440/440 [==============================] - 44s 99ms/step - loss: 0.2113 - accuracy: 0.9135 - val_loss: 0.2273 - val_accuracy: 0.9068\n",
            "Epoch 19/100\n",
            "440/440 [==============================] - 45s 102ms/step - loss: 0.2104 - accuracy: 0.9137 - val_loss: 0.2274 - val_accuracy: 0.9068\n",
            "Epoch 20/100\n",
            "440/440 [==============================] - 47s 107ms/step - loss: 0.2096 - accuracy: 0.9141 - val_loss: 0.2278 - val_accuracy: 0.9070\n",
            "Epoch 21/100\n",
            "440/440 [==============================] - 46s 105ms/step - loss: 0.2087 - accuracy: 0.9144 - val_loss: 0.2277 - val_accuracy: 0.9066\n",
            "Epoch 22/100\n",
            "440/440 [==============================] - 44s 99ms/step - loss: 0.2083 - accuracy: 0.9146 - val_loss: 0.2274 - val_accuracy: 0.9065\n",
            "Epoch 23/100\n",
            "440/440 [==============================] - 42s 96ms/step - loss: 0.2074 - accuracy: 0.9150 - val_loss: 0.2285 - val_accuracy: 0.9066\n",
            "Epoch 24/100\n",
            "440/440 [==============================] - 43s 97ms/step - loss: 0.2067 - accuracy: 0.9153 - val_loss: 0.2324 - val_accuracy: 0.9043\n",
            "Epoch 25/100\n",
            "440/440 [==============================] - 45s 103ms/step - loss: 0.2061 - accuracy: 0.9155 - val_loss: 0.2289 - val_accuracy: 0.9061\n",
            "Epoch 26/100\n",
            "440/440 [==============================] - 44s 99ms/step - loss: 0.2054 - accuracy: 0.9159 - val_loss: 0.2296 - val_accuracy: 0.9057\n",
            "Epoch 27/100\n",
            "440/440 [==============================] - 43s 98ms/step - loss: 0.2047 - accuracy: 0.9161 - val_loss: 0.2296 - val_accuracy: 0.9065\n",
            "Epoch 28/100\n",
            "440/440 [==============================] - 47s 108ms/step - loss: 0.2041 - accuracy: 0.9164 - val_loss: 0.2298 - val_accuracy: 0.9059\n",
            "Epoch 29/100\n",
            "440/440 [==============================] - 45s 103ms/step - loss: 0.2035 - accuracy: 0.9166 - val_loss: 0.2302 - val_accuracy: 0.9059\n",
            "Epoch 30/100\n",
            "440/440 [==============================] - 43s 98ms/step - loss: 0.2032 - accuracy: 0.9167 - val_loss: 0.2307 - val_accuracy: 0.9060\n",
            "Epoch 31/100\n",
            "440/440 [==============================] - 43s 98ms/step - loss: 0.2026 - accuracy: 0.9170 - val_loss: 0.2312 - val_accuracy: 0.9057\n",
            "Epoch 32/100\n",
            "440/440 [==============================] - 46s 104ms/step - loss: 0.2020 - accuracy: 0.9172 - val_loss: 0.2318 - val_accuracy: 0.9058\n",
            "Epoch 33/100\n",
            "440/440 [==============================] - 47s 108ms/step - loss: 0.2014 - accuracy: 0.9175 - val_loss: 0.2325 - val_accuracy: 0.9055\n",
            "Epoch 34/100\n",
            "440/440 [==============================] - 44s 99ms/step - loss: 0.2010 - accuracy: 0.9176 - val_loss: 0.2320 - val_accuracy: 0.9054\n",
            "Epoch 35/100\n",
            "440/440 [==============================] - 47s 106ms/step - loss: 0.2006 - accuracy: 0.9178 - val_loss: 0.2322 - val_accuracy: 0.9055\n",
            "Epoch 36/100\n",
            "440/440 [==============================] - 51s 116ms/step - loss: 0.2000 - accuracy: 0.9180 - val_loss: 0.2326 - val_accuracy: 0.9053\n",
            "Epoch 37/100\n",
            "440/440 [==============================] - 46s 103ms/step - loss: 0.1996 - accuracy: 0.9182 - val_loss: 0.2334 - val_accuracy: 0.9051\n",
            "Epoch 38/100\n",
            "440/440 [==============================] - 43s 98ms/step - loss: 0.1993 - accuracy: 0.9182 - val_loss: 0.2351 - val_accuracy: 0.9049\n",
            "Epoch 39/100\n",
            "440/440 [==============================] - 45s 102ms/step - loss: 0.1988 - accuracy: 0.9185 - val_loss: 0.2346 - val_accuracy: 0.9051\n",
            "Epoch 40/100\n",
            "440/440 [==============================] - 38s 87ms/step - loss: 0.1985 - accuracy: 0.9185 - val_loss: 0.2354 - val_accuracy: 0.9048\n",
            "Epoch 41/100\n",
            "440/440 [==============================] - 45s 102ms/step - loss: 0.1981 - accuracy: 0.9187 - val_loss: 0.2355 - val_accuracy: 0.9049\n",
            "Epoch 42/100\n",
            "440/440 [==============================] - 52s 118ms/step - loss: 0.1977 - accuracy: 0.9189 - val_loss: 0.2355 - val_accuracy: 0.9047\n",
            "Epoch 43/100\n",
            "440/440 [==============================] - 46s 104ms/step - loss: 0.1974 - accuracy: 0.9190 - val_loss: 0.2360 - val_accuracy: 0.9045\n",
            "Epoch 44/100\n",
            "440/440 [==============================] - 46s 104ms/step - loss: 0.1971 - accuracy: 0.9192 - val_loss: 0.2365 - val_accuracy: 0.9046\n",
            "Epoch 45/100\n",
            "440/440 [==============================] - 44s 100ms/step - loss: 0.1968 - accuracy: 0.9193 - val_loss: 0.2373 - val_accuracy: 0.9041\n",
            "Epoch 46/100\n",
            "440/440 [==============================] - 50s 114ms/step - loss: 0.1965 - accuracy: 0.9193 - val_loss: 0.2367 - val_accuracy: 0.9044\n",
            "Epoch 47/100\n",
            "440/440 [==============================] - 47s 107ms/step - loss: 0.1962 - accuracy: 0.9194 - val_loss: 0.2374 - val_accuracy: 0.9045\n",
            "Epoch 48/100\n",
            "440/440 [==============================] - 44s 100ms/step - loss: 0.1958 - accuracy: 0.9197 - val_loss: 0.2384 - val_accuracy: 0.9040\n",
            "Epoch 49/100\n",
            "440/440 [==============================] - 45s 103ms/step - loss: 0.1956 - accuracy: 0.9196 - val_loss: 0.2388 - val_accuracy: 0.9036\n",
            "Epoch 50/100\n",
            "440/440 [==============================] - 44s 100ms/step - loss: 0.1953 - accuracy: 0.9198 - val_loss: 0.2387 - val_accuracy: 0.9042\n",
            "Epoch 51/100\n",
            "440/440 [==============================] - 37s 83ms/step - loss: 0.1953 - accuracy: 0.9197 - val_loss: 0.2402 - val_accuracy: 0.9033\n",
            "Epoch 52/100\n",
            "440/440 [==============================] - 45s 103ms/step - loss: 0.1949 - accuracy: 0.9200 - val_loss: 0.2393 - val_accuracy: 0.9037\n",
            "Epoch 53/100\n",
            "440/440 [==============================] - 47s 108ms/step - loss: 0.1946 - accuracy: 0.9202 - val_loss: 0.2389 - val_accuracy: 0.9042\n",
            "Epoch 54/100\n",
            "440/440 [==============================] - 45s 102ms/step - loss: 0.1943 - accuracy: 0.9202 - val_loss: 0.2406 - val_accuracy: 0.9035\n",
            "Epoch 55/100\n",
            "440/440 [==============================] - 45s 102ms/step - loss: 0.1943 - accuracy: 0.9202 - val_loss: 0.2392 - val_accuracy: 0.9038\n",
            "Epoch 56/100\n",
            "440/440 [==============================] - 44s 100ms/step - loss: 0.1938 - accuracy: 0.9204 - val_loss: 0.2404 - val_accuracy: 0.9039\n",
            "Epoch 57/100\n",
            "440/440 [==============================] - 51s 115ms/step - loss: 0.1937 - accuracy: 0.9204 - val_loss: 0.2445 - val_accuracy: 0.9022\n",
            "Epoch 58/100\n",
            "440/440 [==============================] - 44s 100ms/step - loss: 0.1937 - accuracy: 0.9204 - val_loss: 0.2401 - val_accuracy: 0.9040\n",
            "Epoch 59/100\n",
            "440/440 [==============================] - 46s 103ms/step - loss: 0.1933 - accuracy: 0.9206 - val_loss: 0.2404 - val_accuracy: 0.9036\n",
            "Epoch 60/100\n",
            "440/440 [==============================] - 44s 101ms/step - loss: 0.1932 - accuracy: 0.9205 - val_loss: 0.2408 - val_accuracy: 0.9036\n",
            "Epoch 61/100\n",
            "440/440 [==============================] - 49s 112ms/step - loss: 0.1929 - accuracy: 0.9207 - val_loss: 0.2410 - val_accuracy: 0.9038\n",
            "Epoch 62/100\n",
            "440/440 [==============================] - 48s 110ms/step - loss: 0.1928 - accuracy: 0.9206 - val_loss: 0.2426 - val_accuracy: 0.9034\n",
            "Epoch 63/100\n",
            "440/440 [==============================] - 46s 105ms/step - loss: 0.1925 - accuracy: 0.9208 - val_loss: 0.2435 - val_accuracy: 0.9029\n",
            "Epoch 64/100\n",
            "440/440 [==============================] - 43s 98ms/step - loss: 0.1923 - accuracy: 0.9209 - val_loss: 0.2421 - val_accuracy: 0.9032\n",
            "Epoch 65/100\n",
            "440/440 [==============================] - 46s 104ms/step - loss: 0.1923 - accuracy: 0.9210 - val_loss: 0.2424 - val_accuracy: 0.9034\n",
            "Epoch 66/100\n",
            "440/440 [==============================] - 45s 103ms/step - loss: 0.1921 - accuracy: 0.9210 - val_loss: 0.2436 - val_accuracy: 0.9035\n",
            "Epoch 67/100\n",
            "440/440 [==============================] - 46s 105ms/step - loss: 0.1918 - accuracy: 0.9211 - val_loss: 0.2430 - val_accuracy: 0.9031\n",
            "Epoch 68/100\n",
            "440/440 [==============================] - 43s 98ms/step - loss: 0.1917 - accuracy: 0.9212 - val_loss: 0.2430 - val_accuracy: 0.9036\n",
            "Epoch 69/100\n",
            "440/440 [==============================] - 44s 101ms/step - loss: 0.1916 - accuracy: 0.9212 - val_loss: 0.2437 - val_accuracy: 0.9028\n",
            "Epoch 70/100\n",
            "440/440 [==============================] - 36s 83ms/step - loss: 0.1915 - accuracy: 0.9212 - val_loss: 0.2450 - val_accuracy: 0.9029\n",
            "Epoch 71/100\n",
            "440/440 [==============================] - 43s 99ms/step - loss: 0.1912 - accuracy: 0.9214 - val_loss: 0.2432 - val_accuracy: 0.9032\n",
            "Epoch 72/100\n",
            "440/440 [==============================] - 49s 112ms/step - loss: 0.1911 - accuracy: 0.9213 - val_loss: 0.2440 - val_accuracy: 0.9029\n",
            "Epoch 73/100\n",
            "440/440 [==============================] - 46s 105ms/step - loss: 0.1909 - accuracy: 0.9215 - val_loss: 0.2452 - val_accuracy: 0.9030\n",
            "Epoch 74/100\n",
            "440/440 [==============================] - 45s 102ms/step - loss: 0.1909 - accuracy: 0.9215 - val_loss: 0.2442 - val_accuracy: 0.9027\n",
            "Epoch 75/100\n",
            "440/440 [==============================] - 43s 97ms/step - loss: 0.1907 - accuracy: 0.9215 - val_loss: 0.2451 - val_accuracy: 0.9028\n",
            "Epoch 76/100\n",
            "440/440 [==============================] - 51s 115ms/step - loss: 0.1905 - accuracy: 0.9217 - val_loss: 0.2457 - val_accuracy: 0.9023\n",
            "Epoch 77/100\n",
            "440/440 [==============================] - 45s 103ms/step - loss: 0.1904 - accuracy: 0.9217 - val_loss: 0.2446 - val_accuracy: 0.9027\n",
            "Epoch 78/100\n",
            "440/440 [==============================] - 45s 102ms/step - loss: 0.1902 - accuracy: 0.9218 - val_loss: 0.2456 - val_accuracy: 0.9023\n",
            "Epoch 79/100\n",
            "440/440 [==============================] - 42s 96ms/step - loss: 0.1902 - accuracy: 0.9218 - val_loss: 0.2455 - val_accuracy: 0.9025\n",
            "Epoch 80/100\n",
            "440/440 [==============================] - 49s 110ms/step - loss: 0.1900 - accuracy: 0.9219 - val_loss: 0.2455 - val_accuracy: 0.9026\n",
            "Epoch 81/100\n",
            "440/440 [==============================] - 43s 97ms/step - loss: 0.1898 - accuracy: 0.9219 - val_loss: 0.2476 - val_accuracy: 0.9019\n",
            "Epoch 82/100\n",
            "440/440 [==============================] - 44s 101ms/step - loss: 0.1897 - accuracy: 0.9219 - val_loss: 0.2459 - val_accuracy: 0.9025\n",
            "Epoch 83/100\n",
            "440/440 [==============================] - 44s 101ms/step - loss: 0.1896 - accuracy: 0.9220 - val_loss: 0.2465 - val_accuracy: 0.9024\n",
            "Epoch 84/100\n",
            "440/440 [==============================] - 46s 104ms/step - loss: 0.1896 - accuracy: 0.9220 - val_loss: 0.2466 - val_accuracy: 0.9029\n",
            "Epoch 85/100\n",
            "440/440 [==============================] - 46s 105ms/step - loss: 0.1894 - accuracy: 0.9221 - val_loss: 0.2473 - val_accuracy: 0.9024\n",
            "Epoch 86/100\n",
            "440/440 [==============================] - 45s 102ms/step - loss: 0.1892 - accuracy: 0.9221 - val_loss: 0.2471 - val_accuracy: 0.9024\n",
            "Epoch 87/100\n",
            "440/440 [==============================] - 47s 108ms/step - loss: 0.1892 - accuracy: 0.9222 - val_loss: 0.2470 - val_accuracy: 0.9025\n",
            "Epoch 88/100\n",
            "440/440 [==============================] - 48s 108ms/step - loss: 0.1890 - accuracy: 0.9222 - val_loss: 0.2470 - val_accuracy: 0.9022\n",
            "Epoch 89/100\n",
            "440/440 [==============================] - 43s 97ms/step - loss: 0.1889 - accuracy: 0.9223 - val_loss: 0.2472 - val_accuracy: 0.9023\n",
            "Epoch 90/100\n",
            "440/440 [==============================] - 43s 99ms/step - loss: 0.1888 - accuracy: 0.9224 - val_loss: 0.2476 - val_accuracy: 0.9020\n",
            "Epoch 91/100\n",
            "440/440 [==============================] - 52s 118ms/step - loss: 0.1887 - accuracy: 0.9223 - val_loss: 0.2479 - val_accuracy: 0.9022\n",
            "Epoch 92/100\n",
            "440/440 [==============================] - 45s 103ms/step - loss: 0.1886 - accuracy: 0.9224 - val_loss: 0.2479 - val_accuracy: 0.9023\n",
            "Epoch 93/100\n",
            "440/440 [==============================] - 42s 96ms/step - loss: 0.1886 - accuracy: 0.9224 - val_loss: 0.2491 - val_accuracy: 0.9013\n",
            "Epoch 94/100\n",
            "440/440 [==============================] - 42s 96ms/step - loss: 0.1884 - accuracy: 0.9224 - val_loss: 0.2483 - val_accuracy: 0.9017\n",
            "Epoch 95/100\n",
            "440/440 [==============================] - 46s 104ms/step - loss: 0.1882 - accuracy: 0.9226 - val_loss: 0.2494 - val_accuracy: 0.9016\n",
            "Epoch 96/100\n",
            "440/440 [==============================] - 43s 97ms/step - loss: 0.1881 - accuracy: 0.9227 - val_loss: 0.2503 - val_accuracy: 0.9011\n",
            "Epoch 97/100\n",
            "440/440 [==============================] - 42s 96ms/step - loss: 0.1881 - accuracy: 0.9226 - val_loss: 0.2491 - val_accuracy: 0.9018\n",
            "Epoch 98/100\n",
            "440/440 [==============================] - 44s 100ms/step - loss: 0.1881 - accuracy: 0.9226 - val_loss: 0.2491 - val_accuracy: 0.9016\n",
            "Epoch 99/100\n",
            "440/440 [==============================] - 44s 99ms/step - loss: 0.1879 - accuracy: 0.9226 - val_loss: 0.2503 - val_accuracy: 0.9007\n",
            "Epoch 100/100\n",
            "440/440 [==============================] - 44s 100ms/step - loss: 0.1878 - accuracy: 0.9227 - val_loss: 0.2517 - val_accuracy: 0.9012\n"
          ]
        },
        {
          "output_type": "execute_result",
          "data": {
            "text/plain": [
              "<keras.callbacks.History at 0x7f8a2c6a99d0>"
            ]
          },
          "metadata": {},
          "execution_count": 15
        }
      ]
    },
    {
      "cell_type": "code",
      "source": [],
      "metadata": {
        "id": "VQ-UEHlaxYUS"
      },
      "execution_count": null,
      "outputs": []
    }
  ]
}